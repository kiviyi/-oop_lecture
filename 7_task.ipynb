{
 "cells": [
  {
   "cell_type": "markdown",
   "id": "d89e88d8",
   "metadata": {},
   "source": [
    "# Самостоятельное задание #7\n",
    "\n",
    "\n",
    "### Задание 1\n",
    "\n",
    "Допишите функцию, которая принимает список чисел и, с помощью множеств, определяет количество различных чисел внутри списка."
   ]
  },
  {
   "cell_type": "code",
   "execution_count": 1,
   "id": "1b443f02",
   "metadata": {},
   "outputs": [
    {
     "name": "stdout",
     "output_type": "stream",
     "text": [
      "5\n"
     ]
    }
   ],
   "source": [
    "# Начните писать код тут\n",
    "def repetit(li):\n",
    "    print(len(set(li)))\n",
    "cou = int(input())\n",
    "lis = []\n",
    "for i in range(cou):\n",
    "    lis.append(input())\n",
    "repetit(lis)"
   ]
  },
  {
   "cell_type": "markdown",
   "id": "89118666",
   "metadata": {},
   "source": [
    "### Задание 2\n",
    "\n",
    "Допишите функцию, которая принимает несколько списков чисел и, с помощью множеств, определяет количество общих чисел из первого и второго списка."
   ]
  },
  {
   "cell_type": "code",
   "execution_count": null,
   "id": "9ad5e3fd",
   "metadata": {},
   "outputs": [],
   "source": [
    "# Начните писать код тут\n",
    "def comm(x, y):\n",
    "    print(len(union(set(x), set(y))))\n",
    "inp = int(input())\n",
    "li1 = []\n",
    "li2 = []\n",
    "for i in range(inp):\n",
    "    li1.append()\n",
    "inp = int(input())\n",
    "for i in range(inp):\n",
    "    li2.append()\n",
    "comm(li1, li2)\n"
   ]
  }
 ],
 "metadata": {
  "kernelspec": {
   "display_name": "Python 3.9.12 ('base')",
   "language": "python",
   "name": "python3"
  },
  "language_info": {
   "codemirror_mode": {
    "name": "ipython",
    "version": 3
   },
   "file_extension": ".py",
   "mimetype": "text/x-python",
   "name": "python",
   "nbconvert_exporter": "python",
   "pygments_lexer": "ipython3",
   "version": "3.9.12"
  },
  "vscode": {
   "interpreter": {
    "hash": "94c3c2e2049686ae4e58f4b0da452bd51e74b10ddaebbbef9f41e92e4703dab9"
   }
  }
 },
 "nbformat": 4,
 "nbformat_minor": 5
}
